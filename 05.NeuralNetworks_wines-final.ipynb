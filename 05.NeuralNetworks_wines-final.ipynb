{
 "cells": [
  {
   "cell_type": "markdown",
   "metadata": {},
   "source": [
    "\"\"\"\n",
    "\n",
    "Edyta Bartoś i Marcin Grelewicz, \n",
    "\n",
    "usage of red and white data from: \n",
    "https://machinelearningmastery.com/standard-machine-learning-datasets/, \n",
    "for building the classifier SVM-> Support Vector Machine, which is commonly \n",
    "used for supervised learning to analyze data and recognize patterns, by dividing\n",
    "data on hyperplane with maximum margin possible. \n",
    "\n",
    "Two datasets have 12 atribute informations, icluding quality, which is our reference. \n",
    "More info about atributes of wine here: http://archive.ics.uci.edu/ml/datasets/Wine+Quality\n",
    "\n",
    "\"\"\""
   ]
  },
  {
   "cell_type": "code",
   "execution_count": 65,
   "metadata": {
    "id": "yQpcoO7UOQQg"
   },
   "outputs": [],
   "source": [
    "# Import Required Libraries \n",
    "import matplotlib.pyplot as plt \n",
    "import pandas as pd \n",
    "import numpy as np "
   ]
  },
  {
   "cell_type": "code",
   "execution_count": 66,
   "metadata": {
    "id": "rt9RRE12Q_M2"
   },
   "outputs": [],
   "source": [
    "# Read in white wine data \n",
    "data_red = pd.read_csv('winequality-red.csv', sep= \";\") \n",
    "  \n",
    "# Read in red wine data \n",
    "data_white = pd.read_csv('winequality-white.csv', sep= \";\") "
   ]
  },
  {
   "cell_type": "code",
   "execution_count": 67,
   "metadata": {
    "colab": {
     "base_uri": "https://localhost:8080/",
     "height": 223
    },
    "id": "RfJGkHflSXNF",
    "outputId": "73094d99-b2bf-43bf-d702-51c721782415"
   },
   "outputs": [
    {
     "data": {
      "text/html": [
       "<div>\n",
       "<style scoped>\n",
       "    .dataframe tbody tr th:only-of-type {\n",
       "        vertical-align: middle;\n",
       "    }\n",
       "\n",
       "    .dataframe tbody tr th {\n",
       "        vertical-align: top;\n",
       "    }\n",
       "\n",
       "    .dataframe thead th {\n",
       "        text-align: right;\n",
       "    }\n",
       "</style>\n",
       "<table border=\"1\" class=\"dataframe\">\n",
       "  <thead>\n",
       "    <tr style=\"text-align: right;\">\n",
       "      <th></th>\n",
       "      <th>fixed acidity</th>\n",
       "      <th>volatile acidity</th>\n",
       "      <th>citric acid</th>\n",
       "      <th>residual sugar</th>\n",
       "      <th>chlorides</th>\n",
       "      <th>free sulfur dioxide</th>\n",
       "      <th>total sulfur dioxide</th>\n",
       "      <th>density</th>\n",
       "      <th>pH</th>\n",
       "      <th>sulphates</th>\n",
       "      <th>alcohol</th>\n",
       "      <th>quality</th>\n",
       "    </tr>\n",
       "  </thead>\n",
       "  <tbody>\n",
       "    <tr>\n",
       "      <th>1179</th>\n",
       "      <td>8.2</td>\n",
       "      <td>0.350</td>\n",
       "      <td>0.33</td>\n",
       "      <td>2.4</td>\n",
       "      <td>0.076</td>\n",
       "      <td>11.0</td>\n",
       "      <td>47.0</td>\n",
       "      <td>0.99599</td>\n",
       "      <td>3.27</td>\n",
       "      <td>0.81</td>\n",
       "      <td>11.0</td>\n",
       "      <td>6</td>\n",
       "    </tr>\n",
       "    <tr>\n",
       "      <th>292</th>\n",
       "      <td>10.4</td>\n",
       "      <td>0.550</td>\n",
       "      <td>0.23</td>\n",
       "      <td>2.7</td>\n",
       "      <td>0.091</td>\n",
       "      <td>18.0</td>\n",
       "      <td>48.0</td>\n",
       "      <td>0.99940</td>\n",
       "      <td>3.22</td>\n",
       "      <td>0.64</td>\n",
       "      <td>10.3</td>\n",
       "      <td>6</td>\n",
       "    </tr>\n",
       "    <tr>\n",
       "      <th>1165</th>\n",
       "      <td>8.5</td>\n",
       "      <td>0.440</td>\n",
       "      <td>0.50</td>\n",
       "      <td>1.9</td>\n",
       "      <td>0.369</td>\n",
       "      <td>15.0</td>\n",
       "      <td>38.0</td>\n",
       "      <td>0.99634</td>\n",
       "      <td>3.01</td>\n",
       "      <td>1.10</td>\n",
       "      <td>9.4</td>\n",
       "      <td>5</td>\n",
       "    </tr>\n",
       "    <tr>\n",
       "      <th>1075</th>\n",
       "      <td>9.1</td>\n",
       "      <td>0.250</td>\n",
       "      <td>0.34</td>\n",
       "      <td>2.0</td>\n",
       "      <td>0.071</td>\n",
       "      <td>45.0</td>\n",
       "      <td>67.0</td>\n",
       "      <td>0.99769</td>\n",
       "      <td>3.44</td>\n",
       "      <td>0.86</td>\n",
       "      <td>10.2</td>\n",
       "      <td>7</td>\n",
       "    </tr>\n",
       "    <tr>\n",
       "      <th>710</th>\n",
       "      <td>10.6</td>\n",
       "      <td>1.025</td>\n",
       "      <td>0.43</td>\n",
       "      <td>2.8</td>\n",
       "      <td>0.080</td>\n",
       "      <td>21.0</td>\n",
       "      <td>84.0</td>\n",
       "      <td>0.99850</td>\n",
       "      <td>3.06</td>\n",
       "      <td>0.57</td>\n",
       "      <td>10.1</td>\n",
       "      <td>5</td>\n",
       "    </tr>\n",
       "  </tbody>\n",
       "</table>\n",
       "</div>"
      ],
      "text/plain": [
       "      fixed acidity  volatile acidity  citric acid  residual sugar  chlorides  \\\n",
       "1179            8.2             0.350         0.33             2.4      0.076   \n",
       "292            10.4             0.550         0.23             2.7      0.091   \n",
       "1165            8.5             0.440         0.50             1.9      0.369   \n",
       "1075            9.1             0.250         0.34             2.0      0.071   \n",
       "710            10.6             1.025         0.43             2.8      0.080   \n",
       "\n",
       "      free sulfur dioxide  total sulfur dioxide  density    pH  sulphates  \\\n",
       "1179                 11.0                  47.0  0.99599  3.27       0.81   \n",
       "292                  18.0                  48.0  0.99940  3.22       0.64   \n",
       "1165                 15.0                  38.0  0.99634  3.01       1.10   \n",
       "1075                 45.0                  67.0  0.99769  3.44       0.86   \n",
       "710                  21.0                  84.0  0.99850  3.06       0.57   \n",
       "\n",
       "      alcohol  quality  \n",
       "1179     11.0        6  \n",
       "292      10.3        6  \n",
       "1165      9.4        5  \n",
       "1075     10.2        7  \n",
       "710      10.1        5  "
      ]
     },
     "execution_count": 67,
     "metadata": {},
     "output_type": "execute_result"
    }
   ],
   "source": [
    "# show sample of data\n",
    "data_red.sample(5) "
   ]
  },
  {
   "cell_type": "code",
   "execution_count": 68,
   "metadata": {
    "id": "lTwxND4rSvAk"
   },
   "outputs": [],
   "source": [
    "# Add `type` column to `red` with price one \n",
    "data_red['type'] = 1\n",
    "\n",
    "# Add `type` column to `white` with price zero \n",
    "data_white['type'] = 0\n",
    "\n",
    "# Append `white` to `red` \n",
    "all_data = data_red.append(data_white, ignore_index = True) "
   ]
  },
  {
   "cell_type": "code",
   "execution_count": 69,
   "metadata": {
    "colab": {
     "base_uri": "https://localhost:8080/",
     "height": 223
    },
    "id": "ub4VW27qU64f",
    "outputId": "5419f814-47df-4727-8b96-b544f681b395"
   },
   "outputs": [
    {
     "data": {
      "text/html": [
       "<div>\n",
       "<style scoped>\n",
       "    .dataframe tbody tr th:only-of-type {\n",
       "        vertical-align: middle;\n",
       "    }\n",
       "\n",
       "    .dataframe tbody tr th {\n",
       "        vertical-align: top;\n",
       "    }\n",
       "\n",
       "    .dataframe thead th {\n",
       "        text-align: right;\n",
       "    }\n",
       "</style>\n",
       "<table border=\"1\" class=\"dataframe\">\n",
       "  <thead>\n",
       "    <tr style=\"text-align: right;\">\n",
       "      <th></th>\n",
       "      <th>fixed acidity</th>\n",
       "      <th>volatile acidity</th>\n",
       "      <th>citric acid</th>\n",
       "      <th>residual sugar</th>\n",
       "      <th>chlorides</th>\n",
       "      <th>free sulfur dioxide</th>\n",
       "      <th>total sulfur dioxide</th>\n",
       "      <th>density</th>\n",
       "      <th>pH</th>\n",
       "      <th>sulphates</th>\n",
       "      <th>alcohol</th>\n",
       "      <th>quality</th>\n",
       "      <th>type</th>\n",
       "    </tr>\n",
       "  </thead>\n",
       "  <tbody>\n",
       "    <tr>\n",
       "      <th>6492</th>\n",
       "      <td>6.2</td>\n",
       "      <td>0.21</td>\n",
       "      <td>0.29</td>\n",
       "      <td>1.6</td>\n",
       "      <td>0.039</td>\n",
       "      <td>24.0</td>\n",
       "      <td>92.0</td>\n",
       "      <td>0.99114</td>\n",
       "      <td>3.27</td>\n",
       "      <td>0.50</td>\n",
       "      <td>11.2</td>\n",
       "      <td>6</td>\n",
       "      <td>0</td>\n",
       "    </tr>\n",
       "    <tr>\n",
       "      <th>6493</th>\n",
       "      <td>6.6</td>\n",
       "      <td>0.32</td>\n",
       "      <td>0.36</td>\n",
       "      <td>8.0</td>\n",
       "      <td>0.047</td>\n",
       "      <td>57.0</td>\n",
       "      <td>168.0</td>\n",
       "      <td>0.99490</td>\n",
       "      <td>3.15</td>\n",
       "      <td>0.46</td>\n",
       "      <td>9.6</td>\n",
       "      <td>5</td>\n",
       "      <td>0</td>\n",
       "    </tr>\n",
       "    <tr>\n",
       "      <th>6494</th>\n",
       "      <td>6.5</td>\n",
       "      <td>0.24</td>\n",
       "      <td>0.19</td>\n",
       "      <td>1.2</td>\n",
       "      <td>0.041</td>\n",
       "      <td>30.0</td>\n",
       "      <td>111.0</td>\n",
       "      <td>0.99254</td>\n",
       "      <td>2.99</td>\n",
       "      <td>0.46</td>\n",
       "      <td>9.4</td>\n",
       "      <td>6</td>\n",
       "      <td>0</td>\n",
       "    </tr>\n",
       "    <tr>\n",
       "      <th>6495</th>\n",
       "      <td>5.5</td>\n",
       "      <td>0.29</td>\n",
       "      <td>0.30</td>\n",
       "      <td>1.1</td>\n",
       "      <td>0.022</td>\n",
       "      <td>20.0</td>\n",
       "      <td>110.0</td>\n",
       "      <td>0.98869</td>\n",
       "      <td>3.34</td>\n",
       "      <td>0.38</td>\n",
       "      <td>12.8</td>\n",
       "      <td>7</td>\n",
       "      <td>0</td>\n",
       "    </tr>\n",
       "    <tr>\n",
       "      <th>6496</th>\n",
       "      <td>6.0</td>\n",
       "      <td>0.21</td>\n",
       "      <td>0.38</td>\n",
       "      <td>0.8</td>\n",
       "      <td>0.020</td>\n",
       "      <td>22.0</td>\n",
       "      <td>98.0</td>\n",
       "      <td>0.98941</td>\n",
       "      <td>3.26</td>\n",
       "      <td>0.32</td>\n",
       "      <td>11.8</td>\n",
       "      <td>6</td>\n",
       "      <td>0</td>\n",
       "    </tr>\n",
       "  </tbody>\n",
       "</table>\n",
       "</div>"
      ],
      "text/plain": [
       "      fixed acidity  volatile acidity  citric acid  residual sugar  chlorides  \\\n",
       "6492            6.2              0.21         0.29             1.6      0.039   \n",
       "6493            6.6              0.32         0.36             8.0      0.047   \n",
       "6494            6.5              0.24         0.19             1.2      0.041   \n",
       "6495            5.5              0.29         0.30             1.1      0.022   \n",
       "6496            6.0              0.21         0.38             0.8      0.020   \n",
       "\n",
       "      free sulfur dioxide  total sulfur dioxide  density    pH  sulphates  \\\n",
       "6492                 24.0                  92.0  0.99114  3.27       0.50   \n",
       "6493                 57.0                 168.0  0.99490  3.15       0.46   \n",
       "6494                 30.0                 111.0  0.99254  2.99       0.46   \n",
       "6495                 20.0                 110.0  0.98869  3.34       0.38   \n",
       "6496                 22.0                  98.0  0.98941  3.26       0.32   \n",
       "\n",
       "      alcohol  quality  type  \n",
       "6492     11.2        6     0  \n",
       "6493      9.6        5     0  \n",
       "6494      9.4        6     0  \n",
       "6495     12.8        7     0  \n",
       "6496     11.8        6     0  "
      ]
     },
     "execution_count": 69,
     "metadata": {},
     "output_type": "execute_result"
    }
   ],
   "source": [
    "all_data.tail(5)"
   ]
  },
  {
   "cell_type": "code",
   "execution_count": 70,
   "metadata": {
    "id": "aT3OKTxsVDH6"
   },
   "outputs": [],
   "source": [
    "# Import `train_test_split` from `sklearn.model_selection` \n",
    "from sklearn.model_selection import train_test_split \n",
    "#splitting data to X ve y\n",
    "#X = all_data.drop(['quality', 'type'], axis = 1)\n",
    "y = np.ravel(all_data.type)\n",
    "X = all_data.iloc[:, 0:11] \n",
    "#y = np.ravel(all_data.type) \n",
    "\n",
    "# Splitting the data set for training and validating \n",
    "X_train, X_test, y_train, y_test = train_test_split( \n",
    "\t\tX, y, test_size = 0.25, random_state = 50) "
   ]
  },
  {
   "cell_type": "code",
   "execution_count": 71,
   "metadata": {
    "colab": {
     "base_uri": "https://localhost:8080/",
     "height": 206
    },
    "id": "qI4ZChtKYx3L",
    "outputId": "a993a463-1715-46d3-dd67-f1d56e2cd8f6"
   },
   "outputs": [
    {
     "data": {
      "text/html": [
       "<div>\n",
       "<style scoped>\n",
       "    .dataframe tbody tr th:only-of-type {\n",
       "        vertical-align: middle;\n",
       "    }\n",
       "\n",
       "    .dataframe tbody tr th {\n",
       "        vertical-align: top;\n",
       "    }\n",
       "\n",
       "    .dataframe thead th {\n",
       "        text-align: right;\n",
       "    }\n",
       "</style>\n",
       "<table border=\"1\" class=\"dataframe\">\n",
       "  <thead>\n",
       "    <tr style=\"text-align: right;\">\n",
       "      <th></th>\n",
       "      <th>fixed acidity</th>\n",
       "      <th>volatile acidity</th>\n",
       "      <th>citric acid</th>\n",
       "      <th>residual sugar</th>\n",
       "      <th>chlorides</th>\n",
       "      <th>free sulfur dioxide</th>\n",
       "      <th>total sulfur dioxide</th>\n",
       "      <th>density</th>\n",
       "      <th>pH</th>\n",
       "      <th>sulphates</th>\n",
       "      <th>alcohol</th>\n",
       "    </tr>\n",
       "  </thead>\n",
       "  <tbody>\n",
       "    <tr>\n",
       "      <th>3419</th>\n",
       "      <td>6.8</td>\n",
       "      <td>0.300</td>\n",
       "      <td>0.35</td>\n",
       "      <td>2.8</td>\n",
       "      <td>0.038</td>\n",
       "      <td>10.0</td>\n",
       "      <td>164.0</td>\n",
       "      <td>0.99120</td>\n",
       "      <td>3.09</td>\n",
       "      <td>0.53</td>\n",
       "      <td>12.0</td>\n",
       "    </tr>\n",
       "    <tr>\n",
       "      <th>834</th>\n",
       "      <td>8.8</td>\n",
       "      <td>0.685</td>\n",
       "      <td>0.26</td>\n",
       "      <td>1.6</td>\n",
       "      <td>0.088</td>\n",
       "      <td>16.0</td>\n",
       "      <td>23.0</td>\n",
       "      <td>0.99694</td>\n",
       "      <td>3.32</td>\n",
       "      <td>0.47</td>\n",
       "      <td>9.4</td>\n",
       "    </tr>\n",
       "    <tr>\n",
       "      <th>5340</th>\n",
       "      <td>7.0</td>\n",
       "      <td>0.150</td>\n",
       "      <td>0.28</td>\n",
       "      <td>14.7</td>\n",
       "      <td>0.051</td>\n",
       "      <td>29.0</td>\n",
       "      <td>149.0</td>\n",
       "      <td>0.99792</td>\n",
       "      <td>2.96</td>\n",
       "      <td>0.39</td>\n",
       "      <td>9.0</td>\n",
       "    </tr>\n",
       "    <tr>\n",
       "      <th>6363</th>\n",
       "      <td>5.9</td>\n",
       "      <td>0.260</td>\n",
       "      <td>0.29</td>\n",
       "      <td>5.4</td>\n",
       "      <td>0.046</td>\n",
       "      <td>34.0</td>\n",
       "      <td>116.0</td>\n",
       "      <td>0.99224</td>\n",
       "      <td>3.24</td>\n",
       "      <td>0.41</td>\n",
       "      <td>11.4</td>\n",
       "    </tr>\n",
       "    <tr>\n",
       "      <th>3916</th>\n",
       "      <td>7.5</td>\n",
       "      <td>0.240</td>\n",
       "      <td>0.62</td>\n",
       "      <td>10.6</td>\n",
       "      <td>0.045</td>\n",
       "      <td>51.0</td>\n",
       "      <td>153.0</td>\n",
       "      <td>0.99779</td>\n",
       "      <td>3.16</td>\n",
       "      <td>0.44</td>\n",
       "      <td>8.8</td>\n",
       "    </tr>\n",
       "  </tbody>\n",
       "</table>\n",
       "</div>"
      ],
      "text/plain": [
       "      fixed acidity  volatile acidity  citric acid  residual sugar  chlorides  \\\n",
       "3419            6.8             0.300         0.35             2.8      0.038   \n",
       "834             8.8             0.685         0.26             1.6      0.088   \n",
       "5340            7.0             0.150         0.28            14.7      0.051   \n",
       "6363            5.9             0.260         0.29             5.4      0.046   \n",
       "3916            7.5             0.240         0.62            10.6      0.045   \n",
       "\n",
       "      free sulfur dioxide  total sulfur dioxide  density    pH  sulphates  \\\n",
       "3419                 10.0                 164.0  0.99120  3.09       0.53   \n",
       "834                  16.0                  23.0  0.99694  3.32       0.47   \n",
       "5340                 29.0                 149.0  0.99792  2.96       0.39   \n",
       "6363                 34.0                 116.0  0.99224  3.24       0.41   \n",
       "3916                 51.0                 153.0  0.99779  3.16       0.44   \n",
       "\n",
       "      alcohol  \n",
       "3419     12.0  \n",
       "834       9.4  \n",
       "5340      9.0  \n",
       "6363     11.4  \n",
       "3916      8.8  "
      ]
     },
     "execution_count": 71,
     "metadata": {},
     "output_type": "execute_result"
    }
   ],
   "source": [
    "X_test.head()"
   ]
  },
  {
   "cell_type": "code",
   "execution_count": 72,
   "metadata": {
    "id": "4Tsg1w8AYf0A"
   },
   "outputs": [],
   "source": [
    "# Feature Scaling to X_train and X_test to classify better.\n",
    "from sklearn.preprocessing import StandardScaler\n",
    "sc = StandardScaler()\n",
    "X_train = sc.fit_transform(X_train)\n",
    "X_test = sc.transform(X_test)\n"
   ]
  },
  {
   "cell_type": "code",
   "execution_count": 73,
   "metadata": {
    "colab": {
     "base_uri": "https://localhost:8080/"
    },
    "id": "lV1YtkSiJUzp",
    "outputId": "f4eae9bf-03ac-475a-c5c0-01835dbff23e"
   },
   "outputs": [
    {
     "name": "stdout",
     "output_type": "stream",
     "text": [
      "[[-0.32720953 -0.24001931  0.20823543 ... -0.79850638 -0.01962105\n",
      "   1.28457767]\n",
      " [ 1.21241413  2.07331226 -0.40695842 ...  0.63590954 -0.41627564\n",
      "  -0.91731411]\n",
      " [-0.17324716 -1.14131733 -0.27024867 ... -1.6092632  -0.94514842\n",
      "  -1.25606669]\n",
      " ...\n",
      " [-0.55815308 -0.72071159 -0.2018938  ... -0.42431092  0.17870624\n",
      "   0.35300807]\n",
      " [-0.86607781  0.12049989 -0.40695842 ... -0.9856041  -1.7384576\n",
      "   2.13145913]\n",
      " [ 0.75052703 -0.36019238  0.55000979 ...  0.69827545  1.10423362\n",
      "   1.96208284]]\n"
     ]
    }
   ],
   "source": [
    "print(X_test)"
   ]
  },
  {
   "cell_type": "code",
   "execution_count": 74,
   "metadata": {
    "colab": {
     "base_uri": "https://localhost:8080/"
    },
    "id": "Ht7xRoKXXi6B",
    "outputId": "ce4c8b74-1b1a-4e9e-9e1c-ebe67e0a23f7"
   },
   "outputs": [
    {
     "name": "stdout",
     "output_type": "stream",
     "text": [
      "Model: \"sequential_3\"\n",
      "_________________________________________________________________\n",
      "Layer (type)                 Output Shape              Param #   \n",
      "=================================================================\n",
      "dense_8 (Dense)              (None, 12)                144       \n",
      "_________________________________________________________________\n",
      "dense_9 (Dense)              (None, 9)                 117       \n",
      "=================================================================\n",
      "Total params: 261\n",
      "Trainable params: 261\n",
      "Non-trainable params: 0\n",
      "_________________________________________________________________\n"
     ]
    }
   ],
   "source": [
    "# Import `Sequential` from `keras.models` \n",
    "from keras.models import Sequential \n",
    "\n",
    "# Import `Dense` from `keras.layers` \n",
    "from keras.layers import Dense \n",
    "\n",
    "# Initialize the constructor \n",
    "model = Sequential() \n",
    "\n",
    "# Add an input layer \n",
    "model.add(Dense(12, activation ='relu', input_shape =(11, ))) \n",
    "\n",
    "# Add one hidden layer \n",
    "model.add(Dense(9, activation ='relu')) \n",
    "\n",
    "# Add an output layer \n",
    "#model.add(Dense(1, activation ='sigmoid')) \n",
    "\n",
    "# Model output shape \n",
    "model.output_shape\n",
    "\n",
    "# Model summary \n",
    "model.summary()\n",
    "\n",
    "# Model config \n",
    "model.get_config() \n",
    "\n",
    "# List all weight tensors \n",
    "model.get_weights() \n",
    "model.compile(loss ='binary_crossentropy', \n",
    "optimizer ='adam', metrics =['accuracy']) "
   ]
  },
  {
   "cell_type": "code",
   "execution_count": 75,
   "metadata": {},
   "outputs": [
    {
     "name": "stdout",
     "output_type": "stream",
     "text": [
      "Epoch 1/6\n",
      "2436/2436 [==============================] - 4s 2ms/step - loss: 1.8395 - accuracy: 0.2425 - val_loss: 0.6486 - val_accuracy: 0.5981\n",
      "Epoch 2/6\n",
      "2436/2436 [==============================] - 4s 2ms/step - loss: 0.5700 - accuracy: 0.6345 - val_loss: 0.5223 - val_accuracy: 0.6753\n",
      "Epoch 3/6\n",
      "2436/2436 [==============================] - 4s 2ms/step - loss: 0.5159 - accuracy: 0.6828 - val_loss: 0.4995 - val_accuracy: 0.7102\n",
      "Epoch 4/6\n",
      "2436/2436 [==============================] - 4s 2ms/step - loss: 0.4818 - accuracy: 0.7209 - val_loss: 0.4890 - val_accuracy: 0.7237\n",
      "Epoch 5/6\n",
      "2436/2436 [==============================] - 4s 2ms/step - loss: 0.5359 - accuracy: 0.7274 - val_loss: 0.4854 - val_accuracy: 0.7303\n",
      "Epoch 6/6\n",
      "2436/2436 [==============================] - 4s 2ms/step - loss: 0.4536 - accuracy: 0.7485 - val_loss: 0.4862 - val_accuracy: 0.7291\n",
      "[[0.        0.        0.        ... 0.        0.        0.       ]\n",
      " [2.5495636 2.5313733 2.5669098 ... 3.0034468 2.7150295 3.0866833]\n",
      " [0.        0.        0.        ... 0.        0.        0.       ]\n",
      " ...\n",
      " [0.        0.        0.        ... 0.        0.        0.       ]\n",
      " [0.        0.        0.        ... 0.        0.        0.       ]\n",
      " [1.6239675 1.4350749 1.3613937 ... 1.820107  1.8084431 2.2677703]]\n"
     ]
    }
   ],
   "source": [
    "from datetime import datetime\n",
    "import tensorflow as tf\n",
    "\n",
    "from tensorflow import keras\n",
    "\n",
    "from matplotlib import pyplot as plt\n",
    "history = model.fit(X_train, y_train, validation_split = 0.5, epochs=6, batch_size=1)\n",
    "\n",
    "# Predicting the Value \n",
    "y_pred = model.predict(X_test) \n",
    "print(y_pred) "
   ]
  },
  {
   "cell_type": "markdown",
   "metadata": {},
   "source": [
    "Here we are going to see 1 model without activator \"sigmoid\". We are using only RELU with 21 layers."
   ]
  },
  {
   "cell_type": "code",
   "execution_count": 76,
   "metadata": {},
   "outputs": [
    {
     "data": {
      "image/png": "[encoded data removed]",
      "text/plain": [
       "<Figure size 432x288 with 1 Axes>"
      ]
     },
     "metadata": {
      "needs_background": "light"
     },
     "output_type": "display_data"
    }
   ],
   "source": [
    "plt.plot(history.history['accuracy'])\n",
    "plt.plot(history.history['val_accuracy'])\n",
    "plt.title('model accuracy')\n",
    "plt.ylabel('accuracy')\n",
    "plt.xlabel('epoch')\n",
    "plt.legend(['train', 'val'], loc='upper left')\n",
    "plt.show()"
   ]
  },
  {
   "cell_type": "code",
   "execution_count": 77,
   "metadata": {},
   "outputs": [
    {
     "data": {
      "image/png": "[encoded data removed]",
      "text/plain": [
       "<Figure size 432x288 with 1 Axes>"
      ]
     },
     "metadata": {
      "needs_background": "light"
     },
     "output_type": "display_data"
    }
   ],
   "source": [
    "plt.plot(history.history['loss'])\n",
    "plt.plot(history.history['val_loss'])\n",
    "plt.title('model loss')\n",
    "plt.ylabel('loss')\n",
    "plt.xlabel('epoch')\n",
    "plt.legend(['train', 'val'], loc='upper left')\n",
    "plt.show()"
   ]
  },
  {
   "cell_type": "code",
   "execution_count": 78,
   "metadata": {},
   "outputs": [
    {
     "name": "stdout",
     "output_type": "stream",
     "text": [
      "Model: \"sequential_4\"\n",
      "_________________________________________________________________\n",
      "Layer (type)                 Output Shape              Param #   \n",
      "=================================================================\n",
      "dense_10 (Dense)             (None, 12)                144       \n",
      "_________________________________________________________________\n",
      "dense_11 (Dense)             (None, 1)                 13        \n",
      "=================================================================\n",
      "Total params: 157\n",
      "Trainable params: 157\n",
      "Non-trainable params: 0\n",
      "_________________________________________________________________\n",
      "Epoch 1/6\n",
      "2436/2436 [==============================] - 5s 2ms/step - loss: 0.3126 - accuracy: 0.8817 - val_loss: 0.0478 - val_accuracy: 0.9893\n",
      "Epoch 2/6\n",
      "2436/2436 [==============================] - 4s 2ms/step - loss: 0.0459 - accuracy: 0.9855 - val_loss: 0.0322 - val_accuracy: 0.9930\n",
      "Epoch 3/6\n",
      "2436/2436 [==============================] - 4s 2ms/step - loss: 0.0299 - accuracy: 0.9945 - val_loss: 0.0285 - val_accuracy: 0.9947\n",
      "Epoch 4/6\n",
      "2436/2436 [==============================] - 4s 2ms/step - loss: 0.0428 - accuracy: 0.9918 - val_loss: 0.0271 - val_accuracy: 0.9943\n",
      "Epoch 5/6\n",
      "2436/2436 [==============================] - 4s 2ms/step - loss: 0.0241 - accuracy: 0.9959 - val_loss: 0.0255 - val_accuracy: 0.9943\n",
      "Epoch 6/6\n",
      "2436/2436 [==============================] - 4s 2ms/step - loss: 0.0268 - accuracy: 0.9961 - val_loss: 0.0259 - val_accuracy: 0.9943\n",
      "[[8.9424849e-04]\n",
      " [9.9997735e-01]\n",
      " [2.3578107e-06]\n",
      " ...\n",
      " [2.4253130e-04]\n",
      " [1.2972355e-03]\n",
      " [9.9479645e-01]]\n"
     ]
    }
   ],
   "source": [
    "# Import `Sequential` from `keras.models` \n",
    "from keras.models import Sequential \n",
    "\n",
    "# Import `Dense` from `keras.layers` \n",
    "from keras.layers import Dense \n",
    "\n",
    "# Initialize the constructor \n",
    "model = Sequential() \n",
    "\n",
    "# Add an input layer \n",
    "model.add(Dense(12, activation ='relu', input_shape =(11, ))) \n",
    "\n",
    "# Add one hidden layer \n",
    "#model.add(Dense(9, activation ='relu')) \n",
    "\n",
    "# Add an output layer \n",
    "model.add(Dense(1, activation ='sigmoid')) \n",
    "\n",
    "# Model output shape \n",
    "model.output_shape\n",
    "\n",
    "# Model summary \n",
    "model.summary()\n",
    "\n",
    "# Model config \n",
    "model.get_config() \n",
    "\n",
    "# List all weight tensors \n",
    "model.get_weights() \n",
    "model.compile(loss ='binary_crossentropy', \n",
    "optimizer ='adam', metrics =['accuracy']) \n",
    "\n",
    "from datetime import datetime\n",
    "import tensorflow as tf\n",
    "\n",
    "from tensorflow import keras\n",
    "\n",
    "from matplotlib import pyplot as plt\n",
    "history = model.fit(X_train, y_train, validation_split = 0.5, epochs=6, batch_size=1)\n",
    "\n",
    "# Predicting the Value \n",
    "y_pred = model.predict(X_test) \n",
    "print(y_pred) "
   ]
  },
  {
   "cell_type": "code",
   "execution_count": null,
   "metadata": {},
   "outputs": [],
   "source": [
    "Here we are going to see 1 model without 1 activator \"RELU\", but we are adding \"sigmoid\" instead. Model has 13 layers."
   ]
  },
  {
   "cell_type": "code",
   "execution_count": 79,
   "metadata": {},
   "outputs": [
    {
     "data": {
      "image/png": "[encoded data removed]",
      "text/plain": [
       "<Figure size 432x288 with 1 Axes>"
      ]
     },
     "metadata": {
      "needs_background": "light"
     },
     "output_type": "display_data"
    }
   ],
   "source": [
    "plt.plot(history.history['accuracy'])\n",
    "plt.plot(history.history['val_accuracy'])\n",
    "plt.title('model accuracy')\n",
    "plt.ylabel('accuracy')\n",
    "plt.xlabel('epoch')\n",
    "plt.legend(['train', 'val'], loc='upper left')\n",
    "plt.show()"
   ]
  },
  {
   "cell_type": "code",
   "execution_count": 80,
   "metadata": {},
   "outputs": [
    {
     "data": {
      "image/png": "[encoded data removed]",
      "text/plain": [
       "<Figure size 432x288 with 1 Axes>"
      ]
     },
     "metadata": {
      "needs_background": "light"
     },
     "output_type": "display_data"
    }
   ],
   "source": [
    "plt.plot(history.history['loss'])\n",
    "plt.plot(history.history['val_loss'])\n",
    "plt.title('model loss')\n",
    "plt.ylabel('loss')\n",
    "plt.xlabel('epoch')\n",
    "plt.legend(['train', 'val'], loc='upper left')\n",
    "plt.show()"
   ]
  }
 ],
 "metadata": {
  "colab": {
   "collapsed_sections": [],
   "name": "NeuralNetworks_wines.ipynb",
   "provenance": []
  },
  "kernelspec": {
   "display_name": "Python 3",
   "language": "python",
   "name": "python3"
  },
  "language_info": {
   "codemirror_mode": {
    "name": "ipython",
    "version": 3
   },
   "file_extension": ".py",
   "mimetype": "text/x-python",
   "name": "python",
   "nbconvert_exporter": "python",
   "pygments_lexer": "ipython3",
   "version": "3.7.1"
  }
 },
 "nbformat": 4,
 "nbformat_minor": 1
}
